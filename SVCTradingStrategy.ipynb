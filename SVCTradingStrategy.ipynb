{
  "nbformat": 4,
  "nbformat_minor": 0,
  "metadata": {
    "colab": {
      "name": "SVCTradingStrategy.ipynb",
      "provenance": [],
      "authorship_tag": "ABX9TyNkK6m4SAVt+wcRZdh93K5w",
      "include_colab_link": true
    },
    "kernelspec": {
      "name": "python3",
      "display_name": "Python 3"
    },
    "language_info": {
      "name": "python"
    }
  },
  "cells": [
    {
      "cell_type": "markdown",
      "metadata": {
        "id": "view-in-github",
        "colab_type": "text"
      },
      "source": [
        "<a href=\"https://colab.research.google.com/github/ShalilG/Stock-Market-Analysis/blob/main/SVCTradingStrategy.ipynb\" target=\"_parent\"><img src=\"https://colab.research.google.com/assets/colab-badge.svg\" alt=\"Open In Colab\"/></a>"
      ]
    },
    {
      "cell_type": "code",
      "source": [
        "pip install yfinance"
      ],
      "metadata": {
        "colab": {
          "base_uri": "https://localhost:8080/"
        },
        "id": "QoB-Q5y2Xxaj",
        "outputId": "0863a8a6-641d-4e8c-9c2e-b460c976899b"
      },
      "execution_count": 1,
      "outputs": [
        {
          "output_type": "stream",
          "name": "stdout",
          "text": [
            "Looking in indexes: https://pypi.org/simple, https://us-python.pkg.dev/colab-wheels/public/simple/\n",
            "Collecting yfinance\n",
            "  Downloading yfinance-0.1.74-py2.py3-none-any.whl (27 kB)\n",
            "Requirement already satisfied: pandas>=0.24.0 in /usr/local/lib/python3.7/dist-packages (from yfinance) (1.3.5)\n",
            "Requirement already satisfied: numpy>=1.15 in /usr/local/lib/python3.7/dist-packages (from yfinance) (1.21.6)\n",
            "Requirement already satisfied: multitasking>=0.0.7 in /usr/local/lib/python3.7/dist-packages (from yfinance) (0.0.11)\n",
            "Requirement already satisfied: lxml>=4.5.1 in /usr/local/lib/python3.7/dist-packages (from yfinance) (4.9.1)\n",
            "Collecting requests>=2.26\n",
            "  Downloading requests-2.28.1-py3-none-any.whl (62 kB)\n",
            "\u001b[K     |████████████████████████████████| 62 kB 876 kB/s \n",
            "\u001b[?25hRequirement already satisfied: pytz>=2017.3 in /usr/local/lib/python3.7/dist-packages (from pandas>=0.24.0->yfinance) (2022.2.1)\n",
            "Requirement already satisfied: python-dateutil>=2.7.3 in /usr/local/lib/python3.7/dist-packages (from pandas>=0.24.0->yfinance) (2.8.2)\n",
            "Requirement already satisfied: six>=1.5 in /usr/local/lib/python3.7/dist-packages (from python-dateutil>=2.7.3->pandas>=0.24.0->yfinance) (1.15.0)\n",
            "Requirement already satisfied: certifi>=2017.4.17 in /usr/local/lib/python3.7/dist-packages (from requests>=2.26->yfinance) (2022.6.15)\n",
            "Requirement already satisfied: idna<4,>=2.5 in /usr/local/lib/python3.7/dist-packages (from requests>=2.26->yfinance) (2.10)\n",
            "Requirement already satisfied: urllib3<1.27,>=1.21.1 in /usr/local/lib/python3.7/dist-packages (from requests>=2.26->yfinance) (1.24.3)\n",
            "Requirement already satisfied: charset-normalizer<3,>=2 in /usr/local/lib/python3.7/dist-packages (from requests>=2.26->yfinance) (2.1.0)\n",
            "Installing collected packages: requests, yfinance\n",
            "  Attempting uninstall: requests\n",
            "    Found existing installation: requests 2.23.0\n",
            "    Uninstalling requests-2.23.0:\n",
            "      Successfully uninstalled requests-2.23.0\n",
            "Successfully installed requests-2.28.1 yfinance-0.1.74\n"
          ]
        }
      ]
    },
    {
      "cell_type": "code",
      "execution_count": 2,
      "metadata": {
        "id": "TYQMypbUSHXF"
      },
      "outputs": [],
      "source": [
        "#Import the libraries\n",
        "\n",
        "import pandas as pd\n",
        "import numpy as np\n",
        "import yfinance as yf\n",
        "import matplotlib.pyplot as plt\n",
        "import warnings\n",
        "plt.style.use('fivethirtyeight')\n",
        "warnings.filterwarnings('ignore')"
      ]
    },
    {
      "cell_type": "code",
      "source": [
        "#Get the stock price\n",
        "df = yf.download('NFLX', start = '2012-8-17')\n",
        "df"
      ],
      "metadata": {
        "colab": {
          "base_uri": "https://localhost:8080/",
          "height": 472
        },
        "id": "uVIfFWyNTNih",
        "outputId": "8527c0d8-29df-4b50-a55b-836da3f4fae8"
      },
      "execution_count": 3,
      "outputs": [
        {
          "output_type": "stream",
          "name": "stdout",
          "text": [
            "\r[*********************100%***********************]  1 of 1 completed\n"
          ]
        },
        {
          "output_type": "execute_result",
          "data": {
            "text/plain": [
              "                  Open        High         Low       Close   Adj Close  \\\n",
              "Date                                                                     \n",
              "2012-08-17    9.268571    9.360000    9.072857    9.098571    9.098571   \n",
              "2012-08-20    9.091429    9.335714    8.880000    9.177143    9.177143   \n",
              "2012-08-21    9.305714    9.521429    9.235714    9.371429    9.371429   \n",
              "2012-08-22    9.302857    9.485714    9.257143    9.342857    9.342857   \n",
              "2012-08-23    9.431429    9.491429    9.082857    9.150000    9.150000   \n",
              "...                ...         ...         ...         ...         ...   \n",
              "2022-08-17  241.179993  244.240005  237.559998  241.149994  241.149994   \n",
              "2022-08-18  241.960007  246.479996  239.279999  245.169998  245.169998   \n",
              "2022-08-19  240.949997  243.289993  235.679993  241.160004  241.160004   \n",
              "2022-08-22  232.550003  233.479996  224.589996  226.539993  226.539993   \n",
              "2022-08-23  226.460007  229.899994  224.300003  224.550003  224.550003   \n",
              "\n",
              "              Volume  \n",
              "Date                  \n",
              "2012-08-17  22405600  \n",
              "2012-08-20  26658800  \n",
              "2012-08-21  23355500  \n",
              "2012-08-22  18030600  \n",
              "2012-08-23  32580800  \n",
              "...              ...  \n",
              "2022-08-17   5627200  \n",
              "2022-08-18   5280400  \n",
              "2022-08-19   7486600  \n",
              "2022-08-22   8630100  \n",
              "2022-08-23   5269700  \n",
              "\n",
              "[2520 rows x 6 columns]"
            ],
            "text/html": [
              "\n",
              "  <div id=\"df-6bbb12f1-0438-4173-98b0-a85a744098d4\">\n",
              "    <div class=\"colab-df-container\">\n",
              "      <div>\n",
              "<style scoped>\n",
              "    .dataframe tbody tr th:only-of-type {\n",
              "        vertical-align: middle;\n",
              "    }\n",
              "\n",
              "    .dataframe tbody tr th {\n",
              "        vertical-align: top;\n",
              "    }\n",
              "\n",
              "    .dataframe thead th {\n",
              "        text-align: right;\n",
              "    }\n",
              "</style>\n",
              "<table border=\"1\" class=\"dataframe\">\n",
              "  <thead>\n",
              "    <tr style=\"text-align: right;\">\n",
              "      <th></th>\n",
              "      <th>Open</th>\n",
              "      <th>High</th>\n",
              "      <th>Low</th>\n",
              "      <th>Close</th>\n",
              "      <th>Adj Close</th>\n",
              "      <th>Volume</th>\n",
              "    </tr>\n",
              "    <tr>\n",
              "      <th>Date</th>\n",
              "      <th></th>\n",
              "      <th></th>\n",
              "      <th></th>\n",
              "      <th></th>\n",
              "      <th></th>\n",
              "      <th></th>\n",
              "    </tr>\n",
              "  </thead>\n",
              "  <tbody>\n",
              "    <tr>\n",
              "      <th>2012-08-17</th>\n",
              "      <td>9.268571</td>\n",
              "      <td>9.360000</td>\n",
              "      <td>9.072857</td>\n",
              "      <td>9.098571</td>\n",
              "      <td>9.098571</td>\n",
              "      <td>22405600</td>\n",
              "    </tr>\n",
              "    <tr>\n",
              "      <th>2012-08-20</th>\n",
              "      <td>9.091429</td>\n",
              "      <td>9.335714</td>\n",
              "      <td>8.880000</td>\n",
              "      <td>9.177143</td>\n",
              "      <td>9.177143</td>\n",
              "      <td>26658800</td>\n",
              "    </tr>\n",
              "    <tr>\n",
              "      <th>2012-08-21</th>\n",
              "      <td>9.305714</td>\n",
              "      <td>9.521429</td>\n",
              "      <td>9.235714</td>\n",
              "      <td>9.371429</td>\n",
              "      <td>9.371429</td>\n",
              "      <td>23355500</td>\n",
              "    </tr>\n",
              "    <tr>\n",
              "      <th>2012-08-22</th>\n",
              "      <td>9.302857</td>\n",
              "      <td>9.485714</td>\n",
              "      <td>9.257143</td>\n",
              "      <td>9.342857</td>\n",
              "      <td>9.342857</td>\n",
              "      <td>18030600</td>\n",
              "    </tr>\n",
              "    <tr>\n",
              "      <th>2012-08-23</th>\n",
              "      <td>9.431429</td>\n",
              "      <td>9.491429</td>\n",
              "      <td>9.082857</td>\n",
              "      <td>9.150000</td>\n",
              "      <td>9.150000</td>\n",
              "      <td>32580800</td>\n",
              "    </tr>\n",
              "    <tr>\n",
              "      <th>...</th>\n",
              "      <td>...</td>\n",
              "      <td>...</td>\n",
              "      <td>...</td>\n",
              "      <td>...</td>\n",
              "      <td>...</td>\n",
              "      <td>...</td>\n",
              "    </tr>\n",
              "    <tr>\n",
              "      <th>2022-08-17</th>\n",
              "      <td>241.179993</td>\n",
              "      <td>244.240005</td>\n",
              "      <td>237.559998</td>\n",
              "      <td>241.149994</td>\n",
              "      <td>241.149994</td>\n",
              "      <td>5627200</td>\n",
              "    </tr>\n",
              "    <tr>\n",
              "      <th>2022-08-18</th>\n",
              "      <td>241.960007</td>\n",
              "      <td>246.479996</td>\n",
              "      <td>239.279999</td>\n",
              "      <td>245.169998</td>\n",
              "      <td>245.169998</td>\n",
              "      <td>5280400</td>\n",
              "    </tr>\n",
              "    <tr>\n",
              "      <th>2022-08-19</th>\n",
              "      <td>240.949997</td>\n",
              "      <td>243.289993</td>\n",
              "      <td>235.679993</td>\n",
              "      <td>241.160004</td>\n",
              "      <td>241.160004</td>\n",
              "      <td>7486600</td>\n",
              "    </tr>\n",
              "    <tr>\n",
              "      <th>2022-08-22</th>\n",
              "      <td>232.550003</td>\n",
              "      <td>233.479996</td>\n",
              "      <td>224.589996</td>\n",
              "      <td>226.539993</td>\n",
              "      <td>226.539993</td>\n",
              "      <td>8630100</td>\n",
              "    </tr>\n",
              "    <tr>\n",
              "      <th>2022-08-23</th>\n",
              "      <td>226.460007</td>\n",
              "      <td>229.899994</td>\n",
              "      <td>224.300003</td>\n",
              "      <td>224.550003</td>\n",
              "      <td>224.550003</td>\n",
              "      <td>5269700</td>\n",
              "    </tr>\n",
              "  </tbody>\n",
              "</table>\n",
              "<p>2520 rows × 6 columns</p>\n",
              "</div>\n",
              "      <button class=\"colab-df-convert\" onclick=\"convertToInteractive('df-6bbb12f1-0438-4173-98b0-a85a744098d4')\"\n",
              "              title=\"Convert this dataframe to an interactive table.\"\n",
              "              style=\"display:none;\">\n",
              "        \n",
              "  <svg xmlns=\"http://www.w3.org/2000/svg\" height=\"24px\"viewBox=\"0 0 24 24\"\n",
              "       width=\"24px\">\n",
              "    <path d=\"M0 0h24v24H0V0z\" fill=\"none\"/>\n",
              "    <path d=\"M18.56 5.44l.94 2.06.94-2.06 2.06-.94-2.06-.94-.94-2.06-.94 2.06-2.06.94zm-11 1L8.5 8.5l.94-2.06 2.06-.94-2.06-.94L8.5 2.5l-.94 2.06-2.06.94zm10 10l.94 2.06.94-2.06 2.06-.94-2.06-.94-.94-2.06-.94 2.06-2.06.94z\"/><path d=\"M17.41 7.96l-1.37-1.37c-.4-.4-.92-.59-1.43-.59-.52 0-1.04.2-1.43.59L10.3 9.45l-7.72 7.72c-.78.78-.78 2.05 0 2.83L4 21.41c.39.39.9.59 1.41.59.51 0 1.02-.2 1.41-.59l7.78-7.78 2.81-2.81c.8-.78.8-2.07 0-2.86zM5.41 20L4 18.59l7.72-7.72 1.47 1.35L5.41 20z\"/>\n",
              "  </svg>\n",
              "      </button>\n",
              "      \n",
              "  <style>\n",
              "    .colab-df-container {\n",
              "      display:flex;\n",
              "      flex-wrap:wrap;\n",
              "      gap: 12px;\n",
              "    }\n",
              "\n",
              "    .colab-df-convert {\n",
              "      background-color: #E8F0FE;\n",
              "      border: none;\n",
              "      border-radius: 50%;\n",
              "      cursor: pointer;\n",
              "      display: none;\n",
              "      fill: #1967D2;\n",
              "      height: 32px;\n",
              "      padding: 0 0 0 0;\n",
              "      width: 32px;\n",
              "    }\n",
              "\n",
              "    .colab-df-convert:hover {\n",
              "      background-color: #E2EBFA;\n",
              "      box-shadow: 0px 1px 2px rgba(60, 64, 67, 0.3), 0px 1px 3px 1px rgba(60, 64, 67, 0.15);\n",
              "      fill: #174EA6;\n",
              "    }\n",
              "\n",
              "    [theme=dark] .colab-df-convert {\n",
              "      background-color: #3B4455;\n",
              "      fill: #D2E3FC;\n",
              "    }\n",
              "\n",
              "    [theme=dark] .colab-df-convert:hover {\n",
              "      background-color: #434B5C;\n",
              "      box-shadow: 0px 1px 3px 1px rgba(0, 0, 0, 0.15);\n",
              "      filter: drop-shadow(0px 1px 2px rgba(0, 0, 0, 0.3));\n",
              "      fill: #FFFFFF;\n",
              "    }\n",
              "  </style>\n",
              "\n",
              "      <script>\n",
              "        const buttonEl =\n",
              "          document.querySelector('#df-6bbb12f1-0438-4173-98b0-a85a744098d4 button.colab-df-convert');\n",
              "        buttonEl.style.display =\n",
              "          google.colab.kernel.accessAllowed ? 'block' : 'none';\n",
              "\n",
              "        async function convertToInteractive(key) {\n",
              "          const element = document.querySelector('#df-6bbb12f1-0438-4173-98b0-a85a744098d4');\n",
              "          const dataTable =\n",
              "            await google.colab.kernel.invokeFunction('convertToInteractive',\n",
              "                                                     [key], {});\n",
              "          if (!dataTable) return;\n",
              "\n",
              "          const docLinkHtml = 'Like what you see? Visit the ' +\n",
              "            '<a target=\"_blank\" href=https://colab.research.google.com/notebooks/data_table.ipynb>data table notebook</a>'\n",
              "            + ' to learn more about interactive tables.';\n",
              "          element.innerHTML = '';\n",
              "          dataTable['output_type'] = 'display_data';\n",
              "          await google.colab.output.renderOutput(dataTable, element);\n",
              "          const docLink = document.createElement('div');\n",
              "          docLink.innerHTML = docLinkHtml;\n",
              "          element.appendChild(docLink);\n",
              "        }\n",
              "      </script>\n",
              "    </div>\n",
              "  </div>\n",
              "  "
            ]
          },
          "metadata": {},
          "execution_count": 3
        }
      ]
    },
    {
      "cell_type": "code",
      "source": [
        "#Create the independent variables \n",
        "\n",
        "df['High-Low'] = df['High'] - df['Low']\n",
        "df['Open-Close'] = df['Open'] - df['Close']"
      ],
      "metadata": {
        "id": "g4fCRXn3X_mH"
      },
      "execution_count": 4,
      "outputs": []
    },
    {
      "cell_type": "code",
      "source": [
        "#Store the independent variables in a variable called 'X'\n",
        "\n",
        "X = df[['Open-Close', 'High-Low', 'Close']]\n",
        "\n",
        "#Show the first 5 rows of data\n",
        "X.tail()"
      ],
      "metadata": {
        "colab": {
          "base_uri": "https://localhost:8080/",
          "height": 238
        },
        "id": "x6I9NYEuYqHw",
        "outputId": "7000ec28-0f21-4a4a-cea6-fadcaa2c2e80"
      },
      "execution_count": 5,
      "outputs": [
        {
          "output_type": "execute_result",
          "data": {
            "text/plain": [
              "            Open-Close  High-Low       Close\n",
              "Date                                        \n",
              "2022-08-17    0.029999  6.680008  241.149994\n",
              "2022-08-18   -3.209991  7.199997  245.169998\n",
              "2022-08-19   -0.210007  7.610001  241.160004\n",
              "2022-08-22    6.010010  8.889999  226.539993\n",
              "2022-08-23    1.910004  5.599991  224.550003"
            ],
            "text/html": [
              "\n",
              "  <div id=\"df-6de15b95-ff5c-40f2-8070-0e69555dc9f9\">\n",
              "    <div class=\"colab-df-container\">\n",
              "      <div>\n",
              "<style scoped>\n",
              "    .dataframe tbody tr th:only-of-type {\n",
              "        vertical-align: middle;\n",
              "    }\n",
              "\n",
              "    .dataframe tbody tr th {\n",
              "        vertical-align: top;\n",
              "    }\n",
              "\n",
              "    .dataframe thead th {\n",
              "        text-align: right;\n",
              "    }\n",
              "</style>\n",
              "<table border=\"1\" class=\"dataframe\">\n",
              "  <thead>\n",
              "    <tr style=\"text-align: right;\">\n",
              "      <th></th>\n",
              "      <th>Open-Close</th>\n",
              "      <th>High-Low</th>\n",
              "      <th>Close</th>\n",
              "    </tr>\n",
              "    <tr>\n",
              "      <th>Date</th>\n",
              "      <th></th>\n",
              "      <th></th>\n",
              "      <th></th>\n",
              "    </tr>\n",
              "  </thead>\n",
              "  <tbody>\n",
              "    <tr>\n",
              "      <th>2022-08-17</th>\n",
              "      <td>0.029999</td>\n",
              "      <td>6.680008</td>\n",
              "      <td>241.149994</td>\n",
              "    </tr>\n",
              "    <tr>\n",
              "      <th>2022-08-18</th>\n",
              "      <td>-3.209991</td>\n",
              "      <td>7.199997</td>\n",
              "      <td>245.169998</td>\n",
              "    </tr>\n",
              "    <tr>\n",
              "      <th>2022-08-19</th>\n",
              "      <td>-0.210007</td>\n",
              "      <td>7.610001</td>\n",
              "      <td>241.160004</td>\n",
              "    </tr>\n",
              "    <tr>\n",
              "      <th>2022-08-22</th>\n",
              "      <td>6.010010</td>\n",
              "      <td>8.889999</td>\n",
              "      <td>226.539993</td>\n",
              "    </tr>\n",
              "    <tr>\n",
              "      <th>2022-08-23</th>\n",
              "      <td>1.910004</td>\n",
              "      <td>5.599991</td>\n",
              "      <td>224.550003</td>\n",
              "    </tr>\n",
              "  </tbody>\n",
              "</table>\n",
              "</div>\n",
              "      <button class=\"colab-df-convert\" onclick=\"convertToInteractive('df-6de15b95-ff5c-40f2-8070-0e69555dc9f9')\"\n",
              "              title=\"Convert this dataframe to an interactive table.\"\n",
              "              style=\"display:none;\">\n",
              "        \n",
              "  <svg xmlns=\"http://www.w3.org/2000/svg\" height=\"24px\"viewBox=\"0 0 24 24\"\n",
              "       width=\"24px\">\n",
              "    <path d=\"M0 0h24v24H0V0z\" fill=\"none\"/>\n",
              "    <path d=\"M18.56 5.44l.94 2.06.94-2.06 2.06-.94-2.06-.94-.94-2.06-.94 2.06-2.06.94zm-11 1L8.5 8.5l.94-2.06 2.06-.94-2.06-.94L8.5 2.5l-.94 2.06-2.06.94zm10 10l.94 2.06.94-2.06 2.06-.94-2.06-.94-.94-2.06-.94 2.06-2.06.94z\"/><path d=\"M17.41 7.96l-1.37-1.37c-.4-.4-.92-.59-1.43-.59-.52 0-1.04.2-1.43.59L10.3 9.45l-7.72 7.72c-.78.78-.78 2.05 0 2.83L4 21.41c.39.39.9.59 1.41.59.51 0 1.02-.2 1.41-.59l7.78-7.78 2.81-2.81c.8-.78.8-2.07 0-2.86zM5.41 20L4 18.59l7.72-7.72 1.47 1.35L5.41 20z\"/>\n",
              "  </svg>\n",
              "      </button>\n",
              "      \n",
              "  <style>\n",
              "    .colab-df-container {\n",
              "      display:flex;\n",
              "      flex-wrap:wrap;\n",
              "      gap: 12px;\n",
              "    }\n",
              "\n",
              "    .colab-df-convert {\n",
              "      background-color: #E8F0FE;\n",
              "      border: none;\n",
              "      border-radius: 50%;\n",
              "      cursor: pointer;\n",
              "      display: none;\n",
              "      fill: #1967D2;\n",
              "      height: 32px;\n",
              "      padding: 0 0 0 0;\n",
              "      width: 32px;\n",
              "    }\n",
              "\n",
              "    .colab-df-convert:hover {\n",
              "      background-color: #E2EBFA;\n",
              "      box-shadow: 0px 1px 2px rgba(60, 64, 67, 0.3), 0px 1px 3px 1px rgba(60, 64, 67, 0.15);\n",
              "      fill: #174EA6;\n",
              "    }\n",
              "\n",
              "    [theme=dark] .colab-df-convert {\n",
              "      background-color: #3B4455;\n",
              "      fill: #D2E3FC;\n",
              "    }\n",
              "\n",
              "    [theme=dark] .colab-df-convert:hover {\n",
              "      background-color: #434B5C;\n",
              "      box-shadow: 0px 1px 3px 1px rgba(0, 0, 0, 0.15);\n",
              "      filter: drop-shadow(0px 1px 2px rgba(0, 0, 0, 0.3));\n",
              "      fill: #FFFFFF;\n",
              "    }\n",
              "  </style>\n",
              "\n",
              "      <script>\n",
              "        const buttonEl =\n",
              "          document.querySelector('#df-6de15b95-ff5c-40f2-8070-0e69555dc9f9 button.colab-df-convert');\n",
              "        buttonEl.style.display =\n",
              "          google.colab.kernel.accessAllowed ? 'block' : 'none';\n",
              "\n",
              "        async function convertToInteractive(key) {\n",
              "          const element = document.querySelector('#df-6de15b95-ff5c-40f2-8070-0e69555dc9f9');\n",
              "          const dataTable =\n",
              "            await google.colab.kernel.invokeFunction('convertToInteractive',\n",
              "                                                     [key], {});\n",
              "          if (!dataTable) return;\n",
              "\n",
              "          const docLinkHtml = 'Like what you see? Visit the ' +\n",
              "            '<a target=\"_blank\" href=https://colab.research.google.com/notebooks/data_table.ipynb>data table notebook</a>'\n",
              "            + ' to learn more about interactive tables.';\n",
              "          element.innerHTML = '';\n",
              "          dataTable['output_type'] = 'display_data';\n",
              "          await google.colab.output.renderOutput(dataTable, element);\n",
              "          const docLink = document.createElement('div');\n",
              "          docLink.innerHTML = docLinkHtml;\n",
              "          element.appendChild(docLink);\n",
              "        }\n",
              "      </script>\n",
              "    </div>\n",
              "  </div>\n",
              "  "
            ]
          },
          "metadata": {},
          "execution_count": 5
        }
      ]
    },
    {
      "cell_type": "code",
      "source": [
        "#Store the target variable into a variable called 'y'. If tomorrow's close \n",
        "#price is greater than today's close price then put 1 else put 0\n",
        "\n",
        "y = np.where(df.Close.shift(-1) > df.Close, 1, 0)\n",
        "\n",
        "#Show the data\n",
        "y"
      ],
      "metadata": {
        "colab": {
          "base_uri": "https://localhost:8080/"
        },
        "id": "8bHvJYdIY2M6",
        "outputId": "22daf1c9-8d5b-46e4-fbb7-834ba9e5aac5"
      },
      "execution_count": 6,
      "outputs": [
        {
          "output_type": "execute_result",
          "data": {
            "text/plain": [
              "array([1, 1, 0, ..., 0, 0, 0])"
            ]
          },
          "metadata": {},
          "execution_count": 6
        }
      ]
    },
    {
      "cell_type": "code",
      "source": [
        "#Get the percentage to split the data (90% training data set and 10% test data set)\n",
        "percentage_split = 0.9\n",
        "row = int(df.shape[0]*percentage_split)\n",
        "\n",
        "#Create the train dataset \n",
        "\n",
        "X_train = X[:row]\n",
        "y_train = y[:row]\n",
        "\n",
        "#Create the test dataset\n",
        "\n",
        "X_test = X[row:]\n",
        "y_test = y[row:]"
      ],
      "metadata": {
        "id": "nf7b8oaVZaXY"
      },
      "execution_count": 7,
      "outputs": []
    },
    {
      "cell_type": "code",
      "source": [
        "X_train"
      ],
      "metadata": {
        "colab": {
          "base_uri": "https://localhost:8080/",
          "height": 455
        },
        "id": "6iMwTnaBaRzn",
        "outputId": "d2be0f1d-8571-48c6-904f-530c5404af4e"
      },
      "execution_count": 8,
      "outputs": [
        {
          "output_type": "execute_result",
          "data": {
            "text/plain": [
              "            Open-Close   High-Low       Close\n",
              "Date                                         \n",
              "2012-08-17    0.170000   0.287143    9.098571\n",
              "2012-08-20   -0.085714   0.455714    9.177143\n",
              "2012-08-21   -0.065716   0.285715    9.371429\n",
              "2012-08-22   -0.040000   0.228571    9.342857\n",
              "2012-08-23    0.281429   0.408572    9.150000\n",
              "...                ...        ...         ...\n",
              "2021-08-17   -3.440002   6.589966  518.909973\n",
              "2021-08-18   -1.869995   7.729980  521.869995\n",
              "2021-08-19  -20.970032  26.520020  543.710022\n",
              "2021-08-20   -1.789978  12.290039  546.880005\n",
              "2021-08-23   -7.350037  11.809998  553.330017\n",
              "\n",
              "[2268 rows x 3 columns]"
            ],
            "text/html": [
              "\n",
              "  <div id=\"df-721d4743-cb7d-428f-bb5a-44d25d7cce78\">\n",
              "    <div class=\"colab-df-container\">\n",
              "      <div>\n",
              "<style scoped>\n",
              "    .dataframe tbody tr th:only-of-type {\n",
              "        vertical-align: middle;\n",
              "    }\n",
              "\n",
              "    .dataframe tbody tr th {\n",
              "        vertical-align: top;\n",
              "    }\n",
              "\n",
              "    .dataframe thead th {\n",
              "        text-align: right;\n",
              "    }\n",
              "</style>\n",
              "<table border=\"1\" class=\"dataframe\">\n",
              "  <thead>\n",
              "    <tr style=\"text-align: right;\">\n",
              "      <th></th>\n",
              "      <th>Open-Close</th>\n",
              "      <th>High-Low</th>\n",
              "      <th>Close</th>\n",
              "    </tr>\n",
              "    <tr>\n",
              "      <th>Date</th>\n",
              "      <th></th>\n",
              "      <th></th>\n",
              "      <th></th>\n",
              "    </tr>\n",
              "  </thead>\n",
              "  <tbody>\n",
              "    <tr>\n",
              "      <th>2012-08-17</th>\n",
              "      <td>0.170000</td>\n",
              "      <td>0.287143</td>\n",
              "      <td>9.098571</td>\n",
              "    </tr>\n",
              "    <tr>\n",
              "      <th>2012-08-20</th>\n",
              "      <td>-0.085714</td>\n",
              "      <td>0.455714</td>\n",
              "      <td>9.177143</td>\n",
              "    </tr>\n",
              "    <tr>\n",
              "      <th>2012-08-21</th>\n",
              "      <td>-0.065716</td>\n",
              "      <td>0.285715</td>\n",
              "      <td>9.371429</td>\n",
              "    </tr>\n",
              "    <tr>\n",
              "      <th>2012-08-22</th>\n",
              "      <td>-0.040000</td>\n",
              "      <td>0.228571</td>\n",
              "      <td>9.342857</td>\n",
              "    </tr>\n",
              "    <tr>\n",
              "      <th>2012-08-23</th>\n",
              "      <td>0.281429</td>\n",
              "      <td>0.408572</td>\n",
              "      <td>9.150000</td>\n",
              "    </tr>\n",
              "    <tr>\n",
              "      <th>...</th>\n",
              "      <td>...</td>\n",
              "      <td>...</td>\n",
              "      <td>...</td>\n",
              "    </tr>\n",
              "    <tr>\n",
              "      <th>2021-08-17</th>\n",
              "      <td>-3.440002</td>\n",
              "      <td>6.589966</td>\n",
              "      <td>518.909973</td>\n",
              "    </tr>\n",
              "    <tr>\n",
              "      <th>2021-08-18</th>\n",
              "      <td>-1.869995</td>\n",
              "      <td>7.729980</td>\n",
              "      <td>521.869995</td>\n",
              "    </tr>\n",
              "    <tr>\n",
              "      <th>2021-08-19</th>\n",
              "      <td>-20.970032</td>\n",
              "      <td>26.520020</td>\n",
              "      <td>543.710022</td>\n",
              "    </tr>\n",
              "    <tr>\n",
              "      <th>2021-08-20</th>\n",
              "      <td>-1.789978</td>\n",
              "      <td>12.290039</td>\n",
              "      <td>546.880005</td>\n",
              "    </tr>\n",
              "    <tr>\n",
              "      <th>2021-08-23</th>\n",
              "      <td>-7.350037</td>\n",
              "      <td>11.809998</td>\n",
              "      <td>553.330017</td>\n",
              "    </tr>\n",
              "  </tbody>\n",
              "</table>\n",
              "<p>2268 rows × 3 columns</p>\n",
              "</div>\n",
              "      <button class=\"colab-df-convert\" onclick=\"convertToInteractive('df-721d4743-cb7d-428f-bb5a-44d25d7cce78')\"\n",
              "              title=\"Convert this dataframe to an interactive table.\"\n",
              "              style=\"display:none;\">\n",
              "        \n",
              "  <svg xmlns=\"http://www.w3.org/2000/svg\" height=\"24px\"viewBox=\"0 0 24 24\"\n",
              "       width=\"24px\">\n",
              "    <path d=\"M0 0h24v24H0V0z\" fill=\"none\"/>\n",
              "    <path d=\"M18.56 5.44l.94 2.06.94-2.06 2.06-.94-2.06-.94-.94-2.06-.94 2.06-2.06.94zm-11 1L8.5 8.5l.94-2.06 2.06-.94-2.06-.94L8.5 2.5l-.94 2.06-2.06.94zm10 10l.94 2.06.94-2.06 2.06-.94-2.06-.94-.94-2.06-.94 2.06-2.06.94z\"/><path d=\"M17.41 7.96l-1.37-1.37c-.4-.4-.92-.59-1.43-.59-.52 0-1.04.2-1.43.59L10.3 9.45l-7.72 7.72c-.78.78-.78 2.05 0 2.83L4 21.41c.39.39.9.59 1.41.59.51 0 1.02-.2 1.41-.59l7.78-7.78 2.81-2.81c.8-.78.8-2.07 0-2.86zM5.41 20L4 18.59l7.72-7.72 1.47 1.35L5.41 20z\"/>\n",
              "  </svg>\n",
              "      </button>\n",
              "      \n",
              "  <style>\n",
              "    .colab-df-container {\n",
              "      display:flex;\n",
              "      flex-wrap:wrap;\n",
              "      gap: 12px;\n",
              "    }\n",
              "\n",
              "    .colab-df-convert {\n",
              "      background-color: #E8F0FE;\n",
              "      border: none;\n",
              "      border-radius: 50%;\n",
              "      cursor: pointer;\n",
              "      display: none;\n",
              "      fill: #1967D2;\n",
              "      height: 32px;\n",
              "      padding: 0 0 0 0;\n",
              "      width: 32px;\n",
              "    }\n",
              "\n",
              "    .colab-df-convert:hover {\n",
              "      background-color: #E2EBFA;\n",
              "      box-shadow: 0px 1px 2px rgba(60, 64, 67, 0.3), 0px 1px 3px 1px rgba(60, 64, 67, 0.15);\n",
              "      fill: #174EA6;\n",
              "    }\n",
              "\n",
              "    [theme=dark] .colab-df-convert {\n",
              "      background-color: #3B4455;\n",
              "      fill: #D2E3FC;\n",
              "    }\n",
              "\n",
              "    [theme=dark] .colab-df-convert:hover {\n",
              "      background-color: #434B5C;\n",
              "      box-shadow: 0px 1px 3px 1px rgba(0, 0, 0, 0.15);\n",
              "      filter: drop-shadow(0px 1px 2px rgba(0, 0, 0, 0.3));\n",
              "      fill: #FFFFFF;\n",
              "    }\n",
              "  </style>\n",
              "\n",
              "      <script>\n",
              "        const buttonEl =\n",
              "          document.querySelector('#df-721d4743-cb7d-428f-bb5a-44d25d7cce78 button.colab-df-convert');\n",
              "        buttonEl.style.display =\n",
              "          google.colab.kernel.accessAllowed ? 'block' : 'none';\n",
              "\n",
              "        async function convertToInteractive(key) {\n",
              "          const element = document.querySelector('#df-721d4743-cb7d-428f-bb5a-44d25d7cce78');\n",
              "          const dataTable =\n",
              "            await google.colab.kernel.invokeFunction('convertToInteractive',\n",
              "                                                     [key], {});\n",
              "          if (!dataTable) return;\n",
              "\n",
              "          const docLinkHtml = 'Like what you see? Visit the ' +\n",
              "            '<a target=\"_blank\" href=https://colab.research.google.com/notebooks/data_table.ipynb>data table notebook</a>'\n",
              "            + ' to learn more about interactive tables.';\n",
              "          element.innerHTML = '';\n",
              "          dataTable['output_type'] = 'display_data';\n",
              "          await google.colab.output.renderOutput(dataTable, element);\n",
              "          const docLink = document.createElement('div');\n",
              "          docLink.innerHTML = docLinkHtml;\n",
              "          element.appendChild(docLink);\n",
              "        }\n",
              "      </script>\n",
              "    </div>\n",
              "  </div>\n",
              "  "
            ]
          },
          "metadata": {},
          "execution_count": 8
        }
      ]
    },
    {
      "cell_type": "code",
      "source": [
        "X_test"
      ],
      "metadata": {
        "colab": {
          "base_uri": "https://localhost:8080/",
          "height": 455
        },
        "id": "jKr8RGBKaSaI",
        "outputId": "1781ecf0-d01f-4df2-8cf2-51d435533fc6"
      },
      "execution_count": 9,
      "outputs": [
        {
          "output_type": "execute_result",
          "data": {
            "text/plain": [
              "            Open-Close   High-Low       Close\n",
              "Date                                         \n",
              "2021-08-24   -1.929993   6.039978  553.409973\n",
              "2021-08-25    2.579956   7.390015  547.580017\n",
              "2021-08-26   -3.960022   6.699951  550.119995\n",
              "2021-08-27   -7.320007  14.919983  558.919983\n",
              "2021-08-30   -8.929993  10.709961  566.179993\n",
              "...                ...        ...         ...\n",
              "2022-08-17    0.029999   6.680008  241.149994\n",
              "2022-08-18   -3.209991   7.199997  245.169998\n",
              "2022-08-19   -0.210007   7.610001  241.160004\n",
              "2022-08-22    6.010010   8.889999  226.539993\n",
              "2022-08-23    1.910004   5.599991  224.550003\n",
              "\n",
              "[252 rows x 3 columns]"
            ],
            "text/html": [
              "\n",
              "  <div id=\"df-495db6d8-9299-49c1-a189-bd3ea893b9a7\">\n",
              "    <div class=\"colab-df-container\">\n",
              "      <div>\n",
              "<style scoped>\n",
              "    .dataframe tbody tr th:only-of-type {\n",
              "        vertical-align: middle;\n",
              "    }\n",
              "\n",
              "    .dataframe tbody tr th {\n",
              "        vertical-align: top;\n",
              "    }\n",
              "\n",
              "    .dataframe thead th {\n",
              "        text-align: right;\n",
              "    }\n",
              "</style>\n",
              "<table border=\"1\" class=\"dataframe\">\n",
              "  <thead>\n",
              "    <tr style=\"text-align: right;\">\n",
              "      <th></th>\n",
              "      <th>Open-Close</th>\n",
              "      <th>High-Low</th>\n",
              "      <th>Close</th>\n",
              "    </tr>\n",
              "    <tr>\n",
              "      <th>Date</th>\n",
              "      <th></th>\n",
              "      <th></th>\n",
              "      <th></th>\n",
              "    </tr>\n",
              "  </thead>\n",
              "  <tbody>\n",
              "    <tr>\n",
              "      <th>2021-08-24</th>\n",
              "      <td>-1.929993</td>\n",
              "      <td>6.039978</td>\n",
              "      <td>553.409973</td>\n",
              "    </tr>\n",
              "    <tr>\n",
              "      <th>2021-08-25</th>\n",
              "      <td>2.579956</td>\n",
              "      <td>7.390015</td>\n",
              "      <td>547.580017</td>\n",
              "    </tr>\n",
              "    <tr>\n",
              "      <th>2021-08-26</th>\n",
              "      <td>-3.960022</td>\n",
              "      <td>6.699951</td>\n",
              "      <td>550.119995</td>\n",
              "    </tr>\n",
              "    <tr>\n",
              "      <th>2021-08-27</th>\n",
              "      <td>-7.320007</td>\n",
              "      <td>14.919983</td>\n",
              "      <td>558.919983</td>\n",
              "    </tr>\n",
              "    <tr>\n",
              "      <th>2021-08-30</th>\n",
              "      <td>-8.929993</td>\n",
              "      <td>10.709961</td>\n",
              "      <td>566.179993</td>\n",
              "    </tr>\n",
              "    <tr>\n",
              "      <th>...</th>\n",
              "      <td>...</td>\n",
              "      <td>...</td>\n",
              "      <td>...</td>\n",
              "    </tr>\n",
              "    <tr>\n",
              "      <th>2022-08-17</th>\n",
              "      <td>0.029999</td>\n",
              "      <td>6.680008</td>\n",
              "      <td>241.149994</td>\n",
              "    </tr>\n",
              "    <tr>\n",
              "      <th>2022-08-18</th>\n",
              "      <td>-3.209991</td>\n",
              "      <td>7.199997</td>\n",
              "      <td>245.169998</td>\n",
              "    </tr>\n",
              "    <tr>\n",
              "      <th>2022-08-19</th>\n",
              "      <td>-0.210007</td>\n",
              "      <td>7.610001</td>\n",
              "      <td>241.160004</td>\n",
              "    </tr>\n",
              "    <tr>\n",
              "      <th>2022-08-22</th>\n",
              "      <td>6.010010</td>\n",
              "      <td>8.889999</td>\n",
              "      <td>226.539993</td>\n",
              "    </tr>\n",
              "    <tr>\n",
              "      <th>2022-08-23</th>\n",
              "      <td>1.910004</td>\n",
              "      <td>5.599991</td>\n",
              "      <td>224.550003</td>\n",
              "    </tr>\n",
              "  </tbody>\n",
              "</table>\n",
              "<p>252 rows × 3 columns</p>\n",
              "</div>\n",
              "      <button class=\"colab-df-convert\" onclick=\"convertToInteractive('df-495db6d8-9299-49c1-a189-bd3ea893b9a7')\"\n",
              "              title=\"Convert this dataframe to an interactive table.\"\n",
              "              style=\"display:none;\">\n",
              "        \n",
              "  <svg xmlns=\"http://www.w3.org/2000/svg\" height=\"24px\"viewBox=\"0 0 24 24\"\n",
              "       width=\"24px\">\n",
              "    <path d=\"M0 0h24v24H0V0z\" fill=\"none\"/>\n",
              "    <path d=\"M18.56 5.44l.94 2.06.94-2.06 2.06-.94-2.06-.94-.94-2.06-.94 2.06-2.06.94zm-11 1L8.5 8.5l.94-2.06 2.06-.94-2.06-.94L8.5 2.5l-.94 2.06-2.06.94zm10 10l.94 2.06.94-2.06 2.06-.94-2.06-.94-.94-2.06-.94 2.06-2.06.94z\"/><path d=\"M17.41 7.96l-1.37-1.37c-.4-.4-.92-.59-1.43-.59-.52 0-1.04.2-1.43.59L10.3 9.45l-7.72 7.72c-.78.78-.78 2.05 0 2.83L4 21.41c.39.39.9.59 1.41.59.51 0 1.02-.2 1.41-.59l7.78-7.78 2.81-2.81c.8-.78.8-2.07 0-2.86zM5.41 20L4 18.59l7.72-7.72 1.47 1.35L5.41 20z\"/>\n",
              "  </svg>\n",
              "      </button>\n",
              "      \n",
              "  <style>\n",
              "    .colab-df-container {\n",
              "      display:flex;\n",
              "      flex-wrap:wrap;\n",
              "      gap: 12px;\n",
              "    }\n",
              "\n",
              "    .colab-df-convert {\n",
              "      background-color: #E8F0FE;\n",
              "      border: none;\n",
              "      border-radius: 50%;\n",
              "      cursor: pointer;\n",
              "      display: none;\n",
              "      fill: #1967D2;\n",
              "      height: 32px;\n",
              "      padding: 0 0 0 0;\n",
              "      width: 32px;\n",
              "    }\n",
              "\n",
              "    .colab-df-convert:hover {\n",
              "      background-color: #E2EBFA;\n",
              "      box-shadow: 0px 1px 2px rgba(60, 64, 67, 0.3), 0px 1px 3px 1px rgba(60, 64, 67, 0.15);\n",
              "      fill: #174EA6;\n",
              "    }\n",
              "\n",
              "    [theme=dark] .colab-df-convert {\n",
              "      background-color: #3B4455;\n",
              "      fill: #D2E3FC;\n",
              "    }\n",
              "\n",
              "    [theme=dark] .colab-df-convert:hover {\n",
              "      background-color: #434B5C;\n",
              "      box-shadow: 0px 1px 3px 1px rgba(0, 0, 0, 0.15);\n",
              "      filter: drop-shadow(0px 1px 2px rgba(0, 0, 0, 0.3));\n",
              "      fill: #FFFFFF;\n",
              "    }\n",
              "  </style>\n",
              "\n",
              "      <script>\n",
              "        const buttonEl =\n",
              "          document.querySelector('#df-495db6d8-9299-49c1-a189-bd3ea893b9a7 button.colab-df-convert');\n",
              "        buttonEl.style.display =\n",
              "          google.colab.kernel.accessAllowed ? 'block' : 'none';\n",
              "\n",
              "        async function convertToInteractive(key) {\n",
              "          const element = document.querySelector('#df-495db6d8-9299-49c1-a189-bd3ea893b9a7');\n",
              "          const dataTable =\n",
              "            await google.colab.kernel.invokeFunction('convertToInteractive',\n",
              "                                                     [key], {});\n",
              "          if (!dataTable) return;\n",
              "\n",
              "          const docLinkHtml = 'Like what you see? Visit the ' +\n",
              "            '<a target=\"_blank\" href=https://colab.research.google.com/notebooks/data_table.ipynb>data table notebook</a>'\n",
              "            + ' to learn more about interactive tables.';\n",
              "          element.innerHTML = '';\n",
              "          dataTable['output_type'] = 'display_data';\n",
              "          await google.colab.output.renderOutput(dataTable, element);\n",
              "          const docLink = document.createElement('div');\n",
              "          docLink.innerHTML = docLinkHtml;\n",
              "          element.appendChild(docLink);\n",
              "        }\n",
              "      </script>\n",
              "    </div>\n",
              "  </div>\n",
              "  "
            ]
          },
          "metadata": {},
          "execution_count": 9
        }
      ]
    },
    {
      "cell_type": "code",
      "source": [
        "#import the library for support vector classifier \n",
        "from sklearn.svm import SVC\n",
        "\n",
        "#Create the model \n",
        "\n",
        "model = SVC()\n",
        "\n",
        "#Train the model \n",
        "\n",
        "model.fit(X_train[['Open-Close', 'High-Low']], y_train)"
      ],
      "metadata": {
        "colab": {
          "base_uri": "https://localhost:8080/"
        },
        "id": "rO_sreBHaWLE",
        "outputId": "2e66a669-87d0-4c4f-8483-c3f35712efa3"
      },
      "execution_count": 10,
      "outputs": [
        {
          "output_type": "execute_result",
          "data": {
            "text/plain": [
              "SVC()"
            ]
          },
          "metadata": {},
          "execution_count": 10
        }
      ]
    },
    {
      "cell_type": "code",
      "source": [
        "#Check the score of the model on the train dataset\n",
        "model.score(X_train[['Open-Close', 'High-Low']], y_train)"
      ],
      "metadata": {
        "colab": {
          "base_uri": "https://localhost:8080/"
        },
        "id": "AdLyMr2ebHPz",
        "outputId": "a0251864-7c5c-4418-ce73-3bed1ac0e623"
      },
      "execution_count": 11,
      "outputs": [
        {
          "output_type": "execute_result",
          "data": {
            "text/plain": [
              "0.5361552028218695"
            ]
          },
          "metadata": {},
          "execution_count": 11
        }
      ]
    },
    {
      "cell_type": "code",
      "source": [
        "#Check the score of the model on the test dataset\n",
        "model.score(X_test[['Open-Close', 'High-Low']], y_test)"
      ],
      "metadata": {
        "colab": {
          "base_uri": "https://localhost:8080/"
        },
        "id": "oAxrFRx4bQgL",
        "outputId": "a4559658-20ed-4fc4-c6e6-b9041286d3b1"
      },
      "execution_count": 12,
      "outputs": [
        {
          "output_type": "execute_result",
          "data": {
            "text/plain": [
              "0.46825396825396826"
            ]
          },
          "metadata": {},
          "execution_count": 12
        }
      ]
    },
    {
      "cell_type": "code",
      "source": [
        "#Make and show the models predictions\n",
        "\n",
        "df['Predictions'] = model.predict(X[['Open-Close', 'High-Low']])\n",
        "\n",
        "#Show the predictions\n",
        "df['Predictions']"
      ],
      "metadata": {
        "colab": {
          "base_uri": "https://localhost:8080/"
        },
        "id": "kci5NySnbX15",
        "outputId": "14c76121-e58f-4840-9f0b-bf1841ed8c3a"
      },
      "execution_count": 13,
      "outputs": [
        {
          "output_type": "execute_result",
          "data": {
            "text/plain": [
              "Date\n",
              "2012-08-17    1\n",
              "2012-08-20    1\n",
              "2012-08-21    1\n",
              "2012-08-22    1\n",
              "2012-08-23    1\n",
              "             ..\n",
              "2022-08-17    1\n",
              "2022-08-18    0\n",
              "2022-08-19    1\n",
              "2022-08-22    1\n",
              "2022-08-23    1\n",
              "Name: Predictions, Length: 2520, dtype: int64"
            ]
          },
          "metadata": {},
          "execution_count": 13
        }
      ]
    },
    {
      "cell_type": "code",
      "source": [
        "#Calculate the daily returns\n",
        "\n",
        "df['Return'] = df['Close'].pct_change(1)\n",
        "df['Return']"
      ],
      "metadata": {
        "colab": {
          "base_uri": "https://localhost:8080/"
        },
        "id": "_LRDx8TQbtCV",
        "outputId": "fbd95b80-165c-4534-bd1a-0074dc1de13f"
      },
      "execution_count": 14,
      "outputs": [
        {
          "output_type": "execute_result",
          "data": {
            "text/plain": [
              "Date\n",
              "2012-08-17         NaN\n",
              "2012-08-20    0.008636\n",
              "2012-08-21    0.021171\n",
              "2012-08-22   -0.003049\n",
              "2012-08-23   -0.020642\n",
              "                ...   \n",
              "2022-08-17   -0.018479\n",
              "2022-08-18    0.016670\n",
              "2022-08-19   -0.016356\n",
              "2022-08-22   -0.060624\n",
              "2022-08-23   -0.008784\n",
              "Name: Return, Length: 2520, dtype: float64"
            ]
          },
          "metadata": {},
          "execution_count": 14
        }
      ]
    },
    {
      "cell_type": "code",
      "source": [
        "#Calculate the strategy returns\n",
        "df['Strat_Returns'] = df['Predictions'].shift(1)*df['Return']\n",
        "\n",
        "#Show the strategy returns\n",
        "df['Strat_Returns']"
      ],
      "metadata": {
        "colab": {
          "base_uri": "https://localhost:8080/"
        },
        "id": "wl2RI-zob5B_",
        "outputId": "a240f728-1c61-438f-aca8-4a1fea4f0990"
      },
      "execution_count": 15,
      "outputs": [
        {
          "output_type": "execute_result",
          "data": {
            "text/plain": [
              "Date\n",
              "2012-08-17         NaN\n",
              "2012-08-20    0.008636\n",
              "2012-08-21    0.021171\n",
              "2012-08-22   -0.003049\n",
              "2012-08-23   -0.020642\n",
              "                ...   \n",
              "2022-08-17   -0.018479\n",
              "2022-08-18    0.016670\n",
              "2022-08-19   -0.000000\n",
              "2022-08-22   -0.060624\n",
              "2022-08-23   -0.008784\n",
              "Name: Strat_Returns, Length: 2520, dtype: float64"
            ]
          },
          "metadata": {},
          "execution_count": 15
        }
      ]
    },
    {
      "cell_type": "code",
      "source": [
        "#Calculate the cumulative returns\n",
        "df['Cumul_Ret'] = df['Return'].cumsum()\n",
        "#Calculation of strategy of cumulative returns\n",
        "df['Cumul_Strategy'] = df['Strat_Returns'].cumsum()"
      ],
      "metadata": {
        "id": "Ifn4bIJGcRTC"
      },
      "execution_count": 16,
      "outputs": []
    },
    {
      "cell_type": "code",
      "source": [
        "#Visualize the data\n",
        "\n",
        "plt.figure(figsize=(16,8))\n",
        "plt.title('Returns')\n",
        "plt.plot(df['Cumul_Ret'], color ='orange', label='Stock Returns')\n",
        "plt.plot(df['Cumul_Strategy'], color ='purple', label='Strategy Returns')\n",
        "plt.xticks(rotation=45)\n",
        "plt.legend()\n",
        "plt.show()"
      ],
      "metadata": {
        "colab": {
          "base_uri": "https://localhost:8080/",
          "height": 491
        },
        "id": "fkiNHO6wcuMo",
        "outputId": "76c6708c-5284-4315-940d-d877f8b499f8"
      },
      "execution_count": 17,
      "outputs": [
        {
          "output_type": "display_data",
          "data": {
            "text/plain": [
              "<Figure size 1152x576 with 1 Axes>"
            ],
            "image/png": "[encoded data removed]"
          },
          "metadata": {}
        }
      ]
    },
    {
      "cell_type": "code",
      "source": [
        "#Print the returns\n",
        "\n",
        "print('The stock gives a return of', df['Cumul_Ret'][-1]*100,'%')\n",
        "print('The strategy gives a return of', df['Cumul_Strategy'][-1]*100,'%')"
      ],
      "metadata": {
        "colab": {
          "base_uri": "https://localhost:8080/"
        },
        "id": "ey-7iV2edN3A",
        "outputId": "c03f6a9d-644d-4e5b-9766-f7dc55770351"
      },
      "execution_count": 18,
      "outputs": [
        {
          "output_type": "stream",
          "name": "stdout",
          "text": [
            "The stock gives a return of 435.52013741207764 %\n",
            "The strategy gives a return of 478.64970673113214 %\n"
          ]
        }
      ]
    },
    {
      "cell_type": "code",
      "source": [
        ""
      ],
      "metadata": {
        "id": "W28chQ7pdioK"
      },
      "execution_count": 18,
      "outputs": []
    }
  ]
}