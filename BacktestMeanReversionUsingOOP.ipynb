{
  "nbformat": 4,
  "nbformat_minor": 0,
  "metadata": {
    "colab": {
      "name": "BacktestMeanReversionUsingOOP.ipynb",
      "provenance": [],
      "collapsed_sections": [],
      "authorship_tag": "ABX9TyNPph/84hZkOAAefy04t/Iy",
      "include_colab_link": true
    },
    "kernelspec": {
      "name": "python3",
      "display_name": "Python 3"
    },
    "language_info": {
      "name": "python"
    }
  },
  "cells": [
    {
      "cell_type": "markdown",
      "metadata": {
        "id": "view-in-github",
        "colab_type": "text"
      },
      "source": [
        "<a href=\"https://colab.research.google.com/github/ShalilG/Stock-Market-Analysis/blob/main/BacktestMeanReversionUsingOOP.ipynb\" target=\"_parent\"><img src=\"https://colab.research.google.com/assets/colab-badge.svg\" alt=\"Open In Colab\"/></a>"
      ]
    },
    {
      "cell_type": "code",
      "execution_count": 1,
      "metadata": {
        "colab": {
          "base_uri": "https://localhost:8080/"
        },
        "id": "HISuBmaCJdaX",
        "outputId": "05fff07b-9a23-4045-b69f-30a30bc12db4"
      },
      "outputs": [
        {
          "output_type": "stream",
          "name": "stdout",
          "text": [
            "Looking in indexes: https://pypi.org/simple, https://us-python.pkg.dev/colab-wheels/public/simple/\n",
            "Collecting yfinance\n",
            "  Downloading yfinance-0.1.74-py2.py3-none-any.whl (27 kB)\n",
            "Requirement already satisfied: lxml>=4.5.1 in /usr/local/lib/python3.7/dist-packages (from yfinance) (4.9.1)\n",
            "Collecting requests>=2.26\n",
            "  Downloading requests-2.28.1-py3-none-any.whl (62 kB)\n",
            "\u001b[K     |████████████████████████████████| 62 kB 1.3 MB/s \n",
            "\u001b[?25hRequirement already satisfied: numpy>=1.15 in /usr/local/lib/python3.7/dist-packages (from yfinance) (1.21.6)\n",
            "Requirement already satisfied: multitasking>=0.0.7 in /usr/local/lib/python3.7/dist-packages (from yfinance) (0.0.11)\n",
            "Requirement already satisfied: pandas>=0.24.0 in /usr/local/lib/python3.7/dist-packages (from yfinance) (1.3.5)\n",
            "Requirement already satisfied: python-dateutil>=2.7.3 in /usr/local/lib/python3.7/dist-packages (from pandas>=0.24.0->yfinance) (2.8.2)\n",
            "Requirement already satisfied: pytz>=2017.3 in /usr/local/lib/python3.7/dist-packages (from pandas>=0.24.0->yfinance) (2022.2.1)\n",
            "Requirement already satisfied: six>=1.5 in /usr/local/lib/python3.7/dist-packages (from python-dateutil>=2.7.3->pandas>=0.24.0->yfinance) (1.15.0)\n",
            "Requirement already satisfied: idna<4,>=2.5 in /usr/local/lib/python3.7/dist-packages (from requests>=2.26->yfinance) (2.10)\n",
            "Requirement already satisfied: charset-normalizer<3,>=2 in /usr/local/lib/python3.7/dist-packages (from requests>=2.26->yfinance) (2.1.0)\n",
            "Requirement already satisfied: certifi>=2017.4.17 in /usr/local/lib/python3.7/dist-packages (from requests>=2.26->yfinance) (2022.6.15)\n",
            "Requirement already satisfied: urllib3<1.27,>=1.21.1 in /usr/local/lib/python3.7/dist-packages (from requests>=2.26->yfinance) (1.24.3)\n",
            "Installing collected packages: requests, yfinance\n",
            "  Attempting uninstall: requests\n",
            "    Found existing installation: requests 2.23.0\n",
            "    Uninstalling requests-2.23.0:\n",
            "      Successfully uninstalled requests-2.23.0\n",
            "Successfully installed requests-2.28.1 yfinance-0.1.74\n"
          ]
        }
      ],
      "source": [
        "pip install yfinance"
      ]
    },
    {
      "cell_type": "code",
      "source": [
        "pip install ta"
      ],
      "metadata": {
        "colab": {
          "base_uri": "https://localhost:8080/"
        },
        "id": "PMUhRfgNJiE8",
        "outputId": "69ca937c-9d7a-4b53-d200-bc48871fc755"
      },
      "execution_count": 2,
      "outputs": [
        {
          "output_type": "stream",
          "name": "stdout",
          "text": [
            "Looking in indexes: https://pypi.org/simple, https://us-python.pkg.dev/colab-wheels/public/simple/\n",
            "Collecting ta\n",
            "  Downloading ta-0.10.2.tar.gz (25 kB)\n",
            "Requirement already satisfied: numpy in /usr/local/lib/python3.7/dist-packages (from ta) (1.21.6)\n",
            "Requirement already satisfied: pandas in /usr/local/lib/python3.7/dist-packages (from ta) (1.3.5)\n",
            "Requirement already satisfied: pytz>=2017.3 in /usr/local/lib/python3.7/dist-packages (from pandas->ta) (2022.2.1)\n",
            "Requirement already satisfied: python-dateutil>=2.7.3 in /usr/local/lib/python3.7/dist-packages (from pandas->ta) (2.8.2)\n",
            "Requirement already satisfied: six>=1.5 in /usr/local/lib/python3.7/dist-packages (from python-dateutil>=2.7.3->pandas->ta) (1.15.0)\n",
            "Building wheels for collected packages: ta\n",
            "  Building wheel for ta (setup.py) ... \u001b[?25l\u001b[?25hdone\n",
            "  Created wheel for ta: filename=ta-0.10.2-py3-none-any.whl size=29104 sha256=2ee80c58b6bf42fc9f216533a8b3123d622ef0f971f2518a4fee58b6d8b1a68e\n",
            "  Stored in directory: /root/.cache/pip/wheels/31/31/f1/f2ff471bbc5b84a4b973698ceecdd453ae043971791adc3431\n",
            "Successfully built ta\n",
            "Installing collected packages: ta\n",
            "Successfully installed ta-0.10.2\n"
          ]
        }
      ]
    },
    {
      "cell_type": "code",
      "source": [
        "import yfinance as yf\n",
        "import pandas as pd\n",
        "import numpy as np \n",
        "import ta\n",
        "import matplotlib.pyplot as plt"
      ],
      "metadata": {
        "id": "P7Q7ylWtJqdC"
      },
      "execution_count": 26,
      "outputs": []
    },
    {
      "cell_type": "code",
      "source": [
        "class Backtest:\n",
        "\n",
        "  def __init__(self, symbol):\n",
        "    self.symbol = symbol\n",
        "    self.df = yf.download(self.symbol,start='2019-01-01')\n",
        "    if self.df.empty:\n",
        "      print('No data pulled')\n",
        "    else: \n",
        "      self.calc_indicators()\n",
        "      self.generate_signals()\n",
        "      self.loop_it()\n",
        "      self.profit = self.calc_profit()\n",
        "      self.max_dd = self.profit.min()\n",
        "      self.cumul_profit = (self.profit + 1).prod() - 1\n",
        "      \n",
        "  \n",
        "  def calc_indicators(self):\n",
        "    self.df['ma_20'] = self.df.Close.rolling(20).mean()\n",
        "    self.df['vol'] = self.df.Close.rolling(20).std()\n",
        "    self.df['upper_bb'] = self.df.ma_20 + (2*self.df.vol)\n",
        "    self.df['lower_bb'] = self.df.ma_20 - (2*self.df.vol)\n",
        "    self.df['rsi'] = ta.momentum.rsi(self.df.Close, window=6)\n",
        "    self.df.dropna(inplace=True)\n",
        "\n",
        "  def generate_signals(self):\n",
        "    conditions = [(self.df.rsi < 30) & (self.df.Close < self.df.lower_bb),\n",
        "                  (self.df.rsi > 70) & (self.df.Close > self.df.upper_bb)]\n",
        "    choices = ['Buy','Sell']\n",
        "    self.df['signal'] = np.select(conditions,choices)\n",
        "    self.df.signal = self.df.signal.shift()\n",
        "    self.df.dropna(inplace=True)\n",
        "  \n",
        "  def loop_it(self):\n",
        "    position = False\n",
        "    buydates,selldates = [],[]\n",
        "  \n",
        "\n",
        "    for index, row in self.df.iterrows():\n",
        "      if not position and row['signal'] == 'Buy':\n",
        "        position = True\n",
        "        buydates.append(index)\n",
        "      \n",
        "      if position and row['signal'] == 'Sell':\n",
        "        position = False\n",
        "        selldates.append(index)\n",
        "    \n",
        "    self.buy_arr = self.df.loc[buydates].Open\n",
        "    self.sell_arr = self.df.loc[selldates].Open\n",
        "  \n",
        "  def calc_profit(self):\n",
        "    if self.buy_arr.index[-1] > self.sell_arr.index[-1]:\n",
        "        self.buy_arr.index[:-1]\n",
        "    return (self.sell_arr.values- self.buy_arr.values)/self.buy_arr.values\n",
        "  \n",
        "  def plot_chart(self):\n",
        "    plt.figure(figsize=(10,5))\n",
        "    plt.plot(self.df.Close)\n",
        "    plt.scatter(self.buy_arr.index, self.buy_arr.values, marker='^', c='g')\n",
        "    plt.scatter(self.sell_arr.index, self.sell_arr.values, marker='v', c='r')"
      ],
      "metadata": {
        "id": "mnNh_-2IJy5F"
      },
      "execution_count": 73,
      "outputs": []
    },
    {
      "cell_type": "code",
      "source": [
        "instance = Backtest('AAPL')"
      ],
      "metadata": {
        "colab": {
          "base_uri": "https://localhost:8080/"
        },
        "id": "IyzsMnt4KNSi",
        "outputId": "cd6f24bc-839b-4636-ff46-ae50911a5859"
      },
      "execution_count": 74,
      "outputs": [
        {
          "output_type": "stream",
          "name": "stdout",
          "text": [
            "\r[*********************100%***********************]  1 of 1 completed\n"
          ]
        }
      ]
    },
    {
      "cell_type": "code",
      "source": [
        "instance.profit"
      ],
      "metadata": {
        "colab": {
          "base_uri": "https://localhost:8080/"
        },
        "id": "7MOQVwSHKPVX",
        "outputId": "05da54b3-b43a-4ecc-8df6-fda9ba2ed122"
      },
      "execution_count": 59,
      "outputs": [
        {
          "output_type": "execute_result",
          "data": {
            "text/plain": [
              "array([ 0.14747057,  0.14512763, -0.0616382 ,  0.04193596,  0.0057276 ,\n",
              "        0.03314114,  0.04132237, -0.00333528])"
            ]
          },
          "metadata": {},
          "execution_count": 59
        }
      ]
    },
    {
      "cell_type": "code",
      "source": [
        "instance.cumul_profit"
      ],
      "metadata": {
        "colab": {
          "base_uri": "https://localhost:8080/"
        },
        "id": "9ghM2cltKeXr",
        "outputId": "71ab73da-06bb-43fe-daaa-697f65d3e516"
      },
      "execution_count": 68,
      "outputs": [
        {
          "output_type": "execute_result",
          "data": {
            "text/plain": [
              "0.38541888369034694"
            ]
          },
          "metadata": {},
          "execution_count": 68
        }
      ]
    },
    {
      "cell_type": "code",
      "source": [
        "instance.plot_chart()"
      ],
      "metadata": {
        "colab": {
          "base_uri": "https://localhost:8080/",
          "height": 320
        },
        "id": "dwEmamupVBLk",
        "outputId": "019731f9-768e-4a83-9b9b-c87497dc5574"
      },
      "execution_count": 76,
      "outputs": [
        {
          "output_type": "display_data",
          "data": {
            "text/plain": [
              "<Figure size 720x360 with 1 Axes>"
            ],
            "image/png": "[encoded data removed]"
          },
          "metadata": {
            "needs_background": "light"
          }
        }
      ]
    },
    {
      "cell_type": "code",
      "source": [
        ""
      ],
      "metadata": {
        "id": "i0utrVmDXGVa"
      },
      "execution_count": null,
      "outputs": []
    }
  ]
}